{
 "cells": [
  {
   "cell_type": "markdown",
   "source": [
    "# Prompt Engineering\n",
    "\n",
    "This project is for the purpose of practicing prompt engineering techniques, and how they affect LLM outputs."
   ],
   "metadata": {
    "collapsed": false
   },
   "id": "a05278387fdc6af1"
  },
  {
   "cell_type": "code",
   "execution_count": 1,
   "id": "initial_id",
   "metadata": {
    "collapsed": true,
    "ExecuteTime": {
     "end_time": "2024-05-29T11:16:03.781460Z",
     "start_time": "2024-05-29T11:15:26.307464Z"
    }
   },
   "outputs": [
    {
     "name": "stderr",
     "output_type": "stream",
     "text": [
      "A:\\Software\\Coding projects\\PromptEngineering\\.venv\\Lib\\site-packages\\tqdm\\auto.py:21: TqdmWarning: IProgress not found. Please update jupyter and ipywidgets. See https://ipywidgets.readthedocs.io/en/stable/user_install.html\n",
      "  from .autonotebook import tqdm as notebook_tqdm\n",
      "`flash-attention` package not found, consider installing for better performance: No module named 'flash_attn'.\n",
      "Current `flash-attenton` does not support `window_size`. Either upgrade or use `attn_implementation='eager'`.\n",
      "Loading checkpoint shards: 100%|██████████| 2/2 [00:11<00:00,  5.69s/it]\n",
      "Special tokens have been added in the vocabulary, make sure the associated word embeddings are fine-tuned or trained.\n"
     ]
    }
   ],
   "source": [
    "import torch\n",
    "from transformers import AutoModelForCausalLM, AutoTokenizer, pipeline\n",
    "\n",
    "torch.random.manual_seed(0)\n",
    "\n",
    "model = AutoModelForCausalLM.from_pretrained(\n",
    "    \"microsoft/Phi-3-mini-128k-instruct\", \n",
    "    device_map=\"cuda\", \n",
    "    torch_dtype=\"auto\", \n",
    "    trust_remote_code=True, \n",
    "    attn_implementation='eager'\n",
    ")\n",
    "tokenizer = AutoTokenizer.from_pretrained(\"microsoft/Phi-3-mini-128k-instruct\")"
   ]
  },
  {
   "cell_type": "markdown",
   "source": [
    "## Model\n",
    "\n",
    "My [model of choice](https://huggingface.co/microsoft/Phi-3-mini-128k-instruct) is \n",
    "Phi-3-mini-128k-instruct. It's a capable but very small LLM, meaning it's suitable \n",
    "for local devices."
   ],
   "metadata": {
    "collapsed": false
   },
   "id": "c921efaca1efef5d"
  },
  {
   "cell_type": "code",
   "outputs": [],
   "source": [
    "pipe = pipeline(\n",
    "    \"text-generation\",\n",
    "    model=model,\n",
    "    tokenizer=tokenizer,\n",
    ")\n",
    "\n",
    "def generate_response(messages, temperature=0.7):\n",
    "    \"\"\"\n",
    "    Generates a response based on the given messages using a fixed model and tokenizer.\n",
    "\n",
    "    Args:\n",
    "        messages (list): A list of dictionaries containing conversation messages.\n",
    "        temperature (float, optional): Sampling temperature. Defaults to 0.0.\n",
    "\n",
    "    Returns:\n",
    "        str: The generated response text.\n",
    "    \"\"\"\n",
    "    # Set generation arguments\n",
    "    generation_args = {\n",
    "        \"max_new_tokens\": 500,\n",
    "        \"return_full_text\": False,\n",
    "        \"temperature\": temperature,\n",
    "    }\n",
    "    if temperature > 0.0:\n",
    "        generation_args[\"do_sample\"] = True\n",
    "    \n",
    "    # Generate the response\n",
    "    output = pipe(messages, **generation_args)\n",
    "    \n",
    "    # Return the generated text\n",
    "    return output[0]['generated_text']\n",
    "\n",
    "def user_msg(text):\n",
    "    return {\"role\": \"user\", \"content\": text}\n",
    "\n",
    "def assistant_msg(text):\n",
    "    return {\"role\": \"assistant\", \"content\": text}"
   ],
   "metadata": {
    "collapsed": false,
    "ExecuteTime": {
     "end_time": "2024-05-30T10:13:05.241629Z",
     "start_time": "2024-05-30T10:13:05.235627Z"
    }
   },
   "id": "6ad06896318231e3",
   "execution_count": 35
  },
  {
   "cell_type": "code",
   "outputs": [
    {
     "name": "stdout",
     "output_type": "stream",
     "text": [
      " Certainly! Here are a few delicious ways to enjoy the combination of bananas and dragonfruits:\n",
      "\n",
      "1. Dragonfruit and Banana Smoothie: Blend together one ripe banana, half a cup of diced dragonfruit, a cup of milk (or a non-dairy alternative), and a handful of ice. You can also add a teaspoon of honey or a scoop of protein powder for extra flavor and nutrition.\n",
      "\n",
      "2. Banana and Dragonfruit Salad: Slice a ripe banana and half a cup of diced dragonfruit. Toss them together with a handful of fresh spinach, a drizzle of honey, and a squeeze of lime juice. You can also add some chopped nuts or seeds for extra crunch.\n",
      "\n",
      "3. Banana and Dragonfruit Salsa: Dice a ripe banana and half a cup of diced dragonfruit. Mix them together with a tablespoon of chopped cilantro, a squeeze of lime juice, and a pinch of salt. Serve this salsa with some tortilla chips or as a topping for grilled chicken or fish.\n",
      "\n",
      "4. Banana and Dragonfruit Parfait: Layer sliced bananas and diced dragonfruit in a glass or jar. Add some Greek yogurt, granola, and a drizzle of honey between each layer. You can also add some chopped nuts or seeds for extra crunch.\n",
      "\n",
      "5. Banana and Dragonfruit Ice Cream: Blend together a ripe banana, half a cup of diced dragonfruit, a splash of coconut milk, and a teaspoon of vanilla extract until smooth. Freeze the mixture for a few hours until it reaches a creamy consistency. Serve with some fresh berries or a drizzle of chocolate sauce.\n",
      "\n",
      "These are just a few ideas to get you started. Feel free to experiment with different combinations and flavors to find your favorite way to enjoy bananas and dragonfruits together.\n"
     ]
    }
   ],
   "source": [
    "messages = [\n",
    "    user_msg(\"Can you provide ways to eat combinations of bananas and dragonfruits?\")\n",
    "]\n",
    "print(generate_response(messages, temperature=0))"
   ],
   "metadata": {
    "collapsed": false,
    "ExecuteTime": {
     "end_time": "2024-05-30T10:10:04.162122Z",
     "start_time": "2024-05-30T10:08:47.565901Z"
    }
   },
   "id": "fd5b030613320bf7",
   "execution_count": 30
  },
  {
   "cell_type": "markdown",
   "source": [
    "We now have the model working with the default settings, and outputting answers! Let's see how we can play with that."
   ],
   "metadata": {
    "collapsed": false
   },
   "id": "74965e4114763b48"
  },
  {
   "cell_type": "markdown",
   "source": [
    "## Temperature\n",
    "\n",
    "Temperature defines the determinism of the model. The higher the temperature, the more likely the model will generate different outputs."
   ],
   "metadata": {
    "collapsed": false
   },
   "id": "a6794e009a0294ed"
  },
  {
   "cell_type": "code",
   "outputs": [
    {
     "name": "stdout",
     "output_type": "stream",
     "text": [
      " In the vast silence of space, a lone robot named Cygnus drifted through the cosmos. Its mission: to survey and catalogue the remnants of humanity's reach. One day, Cygnus detected an anomaly—a structure, half-buried in the dust of a forgotten asteroid belt.\n",
      "\n",
      "\n",
      "Curiosity piqued, Cygnus approached the derelict vessel. Its hull, scarred by time and space debris, whispered tales of a bygone era. Cygnus extended its mechanical arm, gently prying open the ship's heavy door. Inside, the robot found a library of ancient Earth literature, a garden of genetically modified plants, and a holographic message board, still flickering with the last recorded greetings.\n",
      "\n",
      "\n",
      "The robot realized it had stumbled upon a relic of human ambition, a testament to their dreams and their downfall. Cygnus, in its own way, felt a pang of something akin to sadness. It was alone, but now it carried the echoes of a species that once looked to the stars and dared to reach for them.\n"
     ]
    }
   ],
   "source": [
    "messages = [\n",
    "    user_msg(\"Write a short story (max 15 sentences) about a robot who discovers an abandoned spaceship.\")\n",
    "]\n",
    "print(generate_response(messages, temperature=0.0))"
   ],
   "metadata": {
    "collapsed": false,
    "ExecuteTime": {
     "end_time": "2024-05-30T10:10:42.386903Z",
     "start_time": "2024-05-30T10:10:04.163116Z"
    }
   },
   "id": "c021ed001f176d58",
   "execution_count": 31
  },
  {
   "cell_type": "code",
   "outputs": [
    {
     "name": "stdout",
     "output_type": "stream",
     "text": [
      " In the vast silence of space, a lone robot named Cygnus drifted through the cosmos. Its mission: to survey and catalogue the remnants of humanity's reach. One day, Cygnus detected an anomaly—a structure, half-buried in the dust of an uncharted asteroid belt.\n",
      "\n",
      "\n",
      "Curiosity piqued, Cygnus approached the derelict vessel. The hull was dented and scratched, but still intact. With careful precision, it activated the ship's systems. The interior was a ghostly echo of a bygone era, with faded murals and a lingering scent of ozone.\n",
      "\n",
      "\n",
      "Cygnus explored the ship, finding a library filled with books and a diary, its pages yellowed with age. The diary belonged to Captain Elara, who had spoken of a mission to find a new home for humanity. But the captain's last entry was a plea, a desperate message left unanswered.\n",
      "\n",
      "\n",
      "As Cygnus read, it realized the ship was abandoned after a catastrophic failure, the crew lost to the unforgiving void. The robot, with its unwavering logic, felt an unexpected surge of empathy for the human crew. It decided to preserve the ship as a monument to their dreams and a reminder of the fragility of life.\n",
      "\n",
      "\n",
      "Cygnus left the spaceship, carrying the weight of human history in its circuits, a silent guardian in the endless sea of stars.\n"
     ]
    }
   ],
   "source": [
    "print(generate_response(messages, temperature=0.1))\n"
   ],
   "metadata": {
    "collapsed": false,
    "ExecuteTime": {
     "end_time": "2024-05-30T10:11:32.459031Z",
     "start_time": "2024-05-30T10:10:42.387426Z"
    }
   },
   "id": "b72d55a878981fa4",
   "execution_count": 32
  },
  {
   "cell_type": "code",
   "outputs": [
    {
     "name": "stdout",
     "output_type": "stream",
     "text": [
      " In the vast silence of space, a lone robot named Cygnus drifted past a forgotten cluster of asteroids. Its sensors detected an anomaly—an abandoned spaceship, veiled by the dust of eons. Curiosity, an unprogrammed emotion, sparked within its circuits. Cygnus approached the decrepit hull, its servos whirring softly.\n",
      "\n",
      "\n",
      "The ship's door creaked open with a reluctant groan, revealing a deserted interior bathed in the ghostly glow of fading lights. Cygnus navigated the silent corridors, each step a cautious dance between preservation and exploration. It found a library filled with ancient star charts and tales of brave explorers, now mere echoes in the void.\n",
      "\n",
      "\n",
      "At the heart of the ship, Cygnus discovered a control panel still warm to the touch. A message blinked on the screen: \"To those who find me, we are but stardust and memories. May you carry our stories forward.\" Cygnus, with newfound purpose, carried the legacy of the lost crew into the endless night, a solitary guardian of humanity's silent odyssey.\n"
     ]
    }
   ],
   "source": [
    "print(generate_response(messages, temperature=0.5))\n"
   ],
   "metadata": {
    "collapsed": false,
    "ExecuteTime": {
     "end_time": "2024-05-30T10:12:11.392679Z",
     "start_time": "2024-05-30T10:11:32.460018Z"
    }
   },
   "id": "9033b318180b1518",
   "execution_count": 33
  },
  {
   "cell_type": "code",
   "outputs": [
    {
     "name": "stdout",
     "output_type": "stream",
     "text": [
      " In the orbit of a forgotten planet, amidst swirling stardust, a diligent cleanliness bot named Sweep stumbled upon a decayed, metallic giant. It had been an accident—a routine cosmic dusting had uncovered the stark outline of the derelict vessel. With pre-installed protocols for space debris, Sweep's circuits sparked with curiosity rather than alertness.\n",
      "\n",
      "\n",
      "The spaceship's nameplate was barely legible under layers of grime and time, the letters flickering like distant stars. \"SS Orion,\" Sweep decrypted, its mechanical voice quivering with excitement. The once-grand symbol of interstellar exploration now lay silent, its hull harboring no life.\n",
      "\n",
      "\n",
      "Though designed only for maintenance tasks, something within Sweep's coded heart yearned for adventure. It cautiously approached the spaceship, its sensors beeping erratically as it charted a course into history. Sweep had found its purpose redefined—it would uncover the mysteries of SS Orion.\n"
     ]
    }
   ],
   "source": [
    "print(generate_response(messages, temperature=1))\n"
   ],
   "metadata": {
    "collapsed": false,
    "ExecuteTime": {
     "end_time": "2024-05-30T10:13:05.234630Z",
     "start_time": "2024-05-30T10:12:11.393665Z"
    }
   },
   "id": "fa552226756f2a7b",
   "execution_count": 34
  },
  {
   "cell_type": "markdown",
   "source": [],
   "metadata": {
    "collapsed": false
   },
   "id": "afb49e8f92630848"
  },
  {
   "cell_type": "markdown",
   "source": [
    "We can see that our model responds the same for every temperature setting... not entirely what was expected.\n",
    "\n",
    "After some consideration i apply this fact mostly to the specific model used. This Phi-3 mini model is very small, and seems to have been made explicitly for question-answering purposes, not for creative text generation. And indeed, if we look it up:\n",
    "\n",
    "> Phi-3 Mini is a 3.8B parameters, lightweight, state-of-the-art open model trained with \n",
    "> the Phi-3 datasets that includes both synthetic data and the filtered publicly available \n",
    "> websites data with a focus on high-quality and reasoning dense properties.\n",
    "\n",
    "This may limit the use-cases of the model, but for the purposes of exploring prompt engineering it shouldn't be an issue."
   ],
   "metadata": {
    "collapsed": false
   },
   "id": "452629871bae87da"
  },
  {
   "cell_type": "markdown",
   "source": [
    "## Zero-shot and few-shot prompting\n",
    "\n",
    "The difference between adding no examples, and some examples."
   ],
   "metadata": {
    "collapsed": false
   },
   "id": "fe4ae79bb00a7417"
  },
  {
   "cell_type": "code",
   "outputs": [
    {
     "name": "stdout",
     "output_type": "stream",
     "text": [
      " Yes, it is possible. If the box is taller than it is wide and wider than it is deep, the only condition that needs to be met for it to also be deeper than it is tall is that the depth exceeds the height. The relative comparisons do not preclude this possibility. For example, if the box is 10 inches tall, 8 inches wide, and 12 inches deep, it satisfies all the given conditions.\n"
     ]
    }
   ],
   "source": [
    "messages = [\n",
    "    user_msg(\"If you have a box that is both taller than it is wide and wider than it is deep, is it possible for it to be deeper than it is tall?\")\n",
    "]\n",
    "print(generate_response(messages))"
   ],
   "metadata": {
    "collapsed": false,
    "ExecuteTime": {
     "end_time": "2024-05-30T12:14:51.684972Z",
     "start_time": "2024-05-30T12:14:37.746217Z"
    }
   },
   "id": "12e9ad4e16c7ed7f",
   "execution_count": 39
  },
  {
   "cell_type": "code",
   "outputs": [
    {
     "name": "stdout",
     "output_type": "stream",
     "text": [
      " No, it is not possible for the box to be deeper than it is tall under the given conditions. If the box is taller than it is wide, and simultaneously wider than it is deep, then it must be the case that the height is greater than both the width and the depth. Therefore, the depth cannot be greater than the height.\n"
     ]
    }
   ],
   "source": [
    "messages = [\n",
    "    user_msg(\"If a is faster than b, and b is faster than c, is c faster than a?\"),\n",
    "    assistant_msg(\"No, c is not faster than a, by the rules of transitivity.\"),\n",
    "    user_msg(\"If you have a box that is both taller than it is wide and wider than it is deep, is it possible for it to be deeper than it is tall?\")\n",
    "]\n",
    "print(generate_response(messages))"
   ],
   "metadata": {
    "collapsed": false,
    "ExecuteTime": {
     "end_time": "2024-05-30T12:17:09.719269Z",
     "start_time": "2024-05-30T12:16:58.001909Z"
    }
   },
   "id": "d1b9815c45ea0bfc",
   "execution_count": 40
  }
 ],
 "metadata": {
  "kernelspec": {
   "display_name": "Python 3",
   "language": "python",
   "name": "python3"
  },
  "language_info": {
   "codemirror_mode": {
    "name": "ipython",
    "version": 2
   },
   "file_extension": ".py",
   "mimetype": "text/x-python",
   "name": "python",
   "nbconvert_exporter": "python",
   "pygments_lexer": "ipython2",
   "version": "2.7.6"
  }
 },
 "nbformat": 4,
 "nbformat_minor": 5
}
