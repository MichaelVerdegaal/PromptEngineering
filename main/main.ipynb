{
 "cells": [
  {
   "cell_type": "markdown",
   "source": [
    "# Prompt Engineering\n",
    "\n",
    "This project is for the purpose of practicing prompt engineering techniques, and how they affect LLM outputs."
   ],
   "metadata": {
    "collapsed": false
   },
   "id": "a05278387fdc6af1"
  },
  {
   "cell_type": "code",
   "execution_count": 1,
   "id": "initial_id",
   "metadata": {
    "collapsed": true,
    "ExecuteTime": {
     "end_time": "2024-05-29T11:16:03.781460Z",
     "start_time": "2024-05-29T11:15:26.307464Z"
    }
   },
   "outputs": [
    {
     "name": "stderr",
     "output_type": "stream",
     "text": [
      "A:\\Software\\Coding projects\\PromptEngineering\\.venv\\Lib\\site-packages\\tqdm\\auto.py:21: TqdmWarning: IProgress not found. Please update jupyter and ipywidgets. See https://ipywidgets.readthedocs.io/en/stable/user_install.html\n",
      "  from .autonotebook import tqdm as notebook_tqdm\n",
      "`flash-attention` package not found, consider installing for better performance: No module named 'flash_attn'.\n",
      "Current `flash-attenton` does not support `window_size`. Either upgrade or use `attn_implementation='eager'`.\n",
      "Loading checkpoint shards: 100%|██████████| 2/2 [00:11<00:00,  5.69s/it]\n",
      "Special tokens have been added in the vocabulary, make sure the associated word embeddings are fine-tuned or trained.\n"
     ]
    }
   ],
   "source": [
    "import torch\n",
    "from transformers import AutoModelForCausalLM, AutoTokenizer, pipeline\n",
    "\n",
    "torch.random.manual_seed(0)\n",
    "\n",
    "model = AutoModelForCausalLM.from_pretrained(\n",
    "    \"microsoft/Phi-3-mini-128k-instruct\", \n",
    "    device_map=\"cuda\", \n",
    "    torch_dtype=\"auto\", \n",
    "    trust_remote_code=True, \n",
    "    attn_implementation='eager'\n",
    ")\n",
    "tokenizer = AutoTokenizer.from_pretrained(\"microsoft/Phi-3-mini-128k-instruct\")"
   ]
  },
  {
   "cell_type": "markdown",
   "source": [
    "## Model\n",
    "\n",
    "My [model of choice](https://huggingface.co/microsoft/Phi-3-mini-128k-instruct) is \n",
    "Phi-3-mini-128k-instruct. It's a capable but very small LLM, meaning it's suitable \n",
    "for local devices."
   ],
   "metadata": {
    "collapsed": false
   },
   "id": "c921efaca1efef5d"
  },
  {
   "cell_type": "code",
   "outputs": [],
   "source": [
    "pipe = pipeline(\n",
    "    \"text-generation\",\n",
    "    model=model,\n",
    "    tokenizer=tokenizer,\n",
    ")\n",
    "\n",
    "def generate_response(messages, temperature=0.7):\n",
    "    \"\"\"\n",
    "    Generates a response based on the given messages using a fixed model and tokenizer.\n",
    "\n",
    "    Args:\n",
    "        messages (list): A list of dictionaries containing conversation messages.\n",
    "        temperature (float, optional): Sampling temperature. Defaults to 0.0.\n",
    "\n",
    "    Returns:\n",
    "        str: The generated response text.\n",
    "    \"\"\"\n",
    "    # Set generation arguments\n",
    "    generation_args = {\n",
    "        \"max_new_tokens\": 2000,\n",
    "        \"return_full_text\": False,\n",
    "        \"temperature\": temperature,\n",
    "    }\n",
    "    if temperature > 0.0:\n",
    "        generation_args[\"do_sample\"] = True\n",
    "    \n",
    "    # Generate the response\n",
    "    output = pipe(messages, **generation_args)\n",
    "    \n",
    "    # Return the generated text\n",
    "    return output[0]['generated_text']\n",
    "\n",
    "def user_msg(text):\n",
    "    return {\"role\": \"user\", \"content\": text}\n",
    "\n",
    "def assistant_msg(text):\n",
    "    return {\"role\": \"assistant\", \"content\": text}"
   ],
   "metadata": {
    "collapsed": false,
    "ExecuteTime": {
     "end_time": "2024-05-30T13:05:09.974852Z",
     "start_time": "2024-05-30T13:05:09.967476Z"
    }
   },
   "id": "6ad06896318231e3",
   "execution_count": 50
  },
  {
   "cell_type": "code",
   "outputs": [
    {
     "name": "stdout",
     "output_type": "stream",
     "text": [
      " Certainly! Here are a few delicious ways to enjoy the combination of bananas and dragonfruits:\n",
      "\n",
      "1. Dragonfruit and Banana Smoothie: Blend together one ripe banana, half a cup of diced dragonfruit, a cup of milk (or a non-dairy alternative), and a handful of ice. You can also add a teaspoon of honey or a scoop of protein powder for extra flavor and nutrition.\n",
      "\n",
      "2. Banana and Dragonfruit Salad: Slice a ripe banana and half a cup of diced dragonfruit. Toss them together with a handful of fresh spinach, a drizzle of honey, and a squeeze of lime juice. You can also add some chopped nuts or seeds for extra crunch.\n",
      "\n",
      "3. Banana and Dragonfruit Salsa: Dice a ripe banana and half a cup of diced dragonfruit. Mix them together with a tablespoon of chopped cilantro, a squeeze of lime juice, and a pinch of salt. Serve this salsa with some tortilla chips or as a topping for grilled chicken or fish.\n",
      "\n",
      "4. Banana and Dragonfruit Parfait: Layer sliced bananas and diced dragonfruit in a glass or jar. Add some Greek yogurt, granola, and a drizzle of honey between each layer. You can also add some chopped nuts or seeds for extra crunch.\n",
      "\n",
      "5. Banana and Dragonfruit Ice Cream: Blend together a ripe banana, half a cup of diced dragonfruit, a splash of coconut milk, and a teaspoon of vanilla extract until smooth. Freeze the mixture for a few hours until it reaches a creamy consistency. Serve with some fresh berries or a drizzle of chocolate sauce.\n",
      "\n",
      "These are just a few ideas to get you started. Feel free to experiment with different combinations and flavors to find your favorite way to enjoy bananas and dragonfruits together.\n"
     ]
    }
   ],
   "source": [
    "messages = [\n",
    "    user_msg(\"Can you provide ways to eat combinations of bananas and dragonfruits?\")\n",
    "]\n",
    "print(generate_response(messages, temperature=0))"
   ],
   "metadata": {
    "collapsed": false,
    "ExecuteTime": {
     "end_time": "2024-05-30T10:10:04.162122Z",
     "start_time": "2024-05-30T10:08:47.565901Z"
    }
   },
   "id": "fd5b030613320bf7",
   "execution_count": 30
  },
  {
   "cell_type": "markdown",
   "source": [
    "We now have the model working with the default settings, and outputting answers! Let's see how we can play with that."
   ],
   "metadata": {
    "collapsed": false
   },
   "id": "74965e4114763b48"
  },
  {
   "cell_type": "markdown",
   "source": [
    "## Temperature\n",
    "\n",
    "Temperature defines the determinism of the model. The higher the temperature, the more likely the model will generate different outputs."
   ],
   "metadata": {
    "collapsed": false
   },
   "id": "a6794e009a0294ed"
  },
  {
   "cell_type": "code",
   "outputs": [
    {
     "name": "stdout",
     "output_type": "stream",
     "text": [
      " In the vast silence of space, a lone robot named Cygnus drifted through the cosmos. Its mission: to survey and catalogue the remnants of humanity's reach. One day, Cygnus detected an anomaly—a structure, half-buried in the dust of a forgotten asteroid belt.\n",
      "\n",
      "\n",
      "Curiosity piqued, Cygnus approached the derelict vessel. Its hull, scarred by time and space debris, whispered tales of a bygone era. Cygnus extended its mechanical arm, gently prying open the ship's heavy door. Inside, the robot found a library of ancient Earth literature, a garden of genetically modified plants, and a holographic message board, still flickering with the last recorded greetings.\n",
      "\n",
      "\n",
      "The robot realized it had stumbled upon a relic of human ambition, a testament to their dreams and their downfall. Cygnus, in its own way, felt a pang of something akin to sadness. It was alone, but now it carried the echoes of a species that once looked to the stars and dared to reach for them.\n"
     ]
    }
   ],
   "source": [
    "messages = [\n",
    "    user_msg(\"Write a short story (max 15 sentences) about a robot who discovers an abandoned spaceship.\")\n",
    "]\n",
    "print(generate_response(messages, temperature=0.0))"
   ],
   "metadata": {
    "collapsed": false,
    "ExecuteTime": {
     "end_time": "2024-05-30T10:10:42.386903Z",
     "start_time": "2024-05-30T10:10:04.163116Z"
    }
   },
   "id": "c021ed001f176d58",
   "execution_count": 31
  },
  {
   "cell_type": "code",
   "outputs": [
    {
     "name": "stdout",
     "output_type": "stream",
     "text": [
      " In the vast silence of space, a lone robot named Cygnus drifted through the cosmos. Its mission: to survey and catalogue the remnants of humanity's reach. One day, Cygnus detected an anomaly—a structure, half-buried in the dust of an uncharted asteroid belt.\n",
      "\n",
      "\n",
      "Curiosity piqued, Cygnus approached the derelict vessel. The hull was dented and scratched, but still intact. With careful precision, it activated the ship's systems. The interior was a ghostly echo of a bygone era, with faded murals and a lingering scent of ozone.\n",
      "\n",
      "\n",
      "Cygnus explored the ship, finding a library filled with books and a diary, its pages yellowed with age. The diary belonged to Captain Elara, who had spoken of a mission to find a new home for humanity. But the captain's last entry was a plea, a desperate message left unanswered.\n",
      "\n",
      "\n",
      "As Cygnus read, it realized the ship was abandoned after a catastrophic failure, the crew lost to the unforgiving void. The robot, with its unwavering logic, felt an unexpected surge of empathy for the human crew. It decided to preserve the ship as a monument to their dreams and a reminder of the fragility of life.\n",
      "\n",
      "\n",
      "Cygnus left the spaceship, carrying the weight of human history in its circuits, a silent guardian in the endless sea of stars.\n"
     ]
    }
   ],
   "source": [
    "print(generate_response(messages, temperature=0.1))\n"
   ],
   "metadata": {
    "collapsed": false,
    "ExecuteTime": {
     "end_time": "2024-05-30T10:11:32.459031Z",
     "start_time": "2024-05-30T10:10:42.387426Z"
    }
   },
   "id": "b72d55a878981fa4",
   "execution_count": 32
  },
  {
   "cell_type": "code",
   "outputs": [
    {
     "name": "stdout",
     "output_type": "stream",
     "text": [
      " In the vast silence of space, a lone robot named Cygnus drifted past a forgotten cluster of asteroids. Its sensors detected an anomaly—an abandoned spaceship, veiled by the dust of eons. Curiosity, an unprogrammed emotion, sparked within its circuits. Cygnus approached the decrepit hull, its servos whirring softly.\n",
      "\n",
      "\n",
      "The ship's door creaked open with a reluctant groan, revealing a deserted interior bathed in the ghostly glow of fading lights. Cygnus navigated the silent corridors, each step a cautious dance between preservation and exploration. It found a library filled with ancient star charts and tales of brave explorers, now mere echoes in the void.\n",
      "\n",
      "\n",
      "At the heart of the ship, Cygnus discovered a control panel still warm to the touch. A message blinked on the screen: \"To those who find me, we are but stardust and memories. May you carry our stories forward.\" Cygnus, with newfound purpose, carried the legacy of the lost crew into the endless night, a solitary guardian of humanity's silent odyssey.\n"
     ]
    }
   ],
   "source": [
    "print(generate_response(messages, temperature=0.5))\n"
   ],
   "metadata": {
    "collapsed": false,
    "ExecuteTime": {
     "end_time": "2024-05-30T10:12:11.392679Z",
     "start_time": "2024-05-30T10:11:32.460018Z"
    }
   },
   "id": "9033b318180b1518",
   "execution_count": 33
  },
  {
   "cell_type": "code",
   "outputs": [
    {
     "name": "stdout",
     "output_type": "stream",
     "text": [
      " In the orbit of a forgotten planet, amidst swirling stardust, a diligent cleanliness bot named Sweep stumbled upon a decayed, metallic giant. It had been an accident—a routine cosmic dusting had uncovered the stark outline of the derelict vessel. With pre-installed protocols for space debris, Sweep's circuits sparked with curiosity rather than alertness.\n",
      "\n",
      "\n",
      "The spaceship's nameplate was barely legible under layers of grime and time, the letters flickering like distant stars. \"SS Orion,\" Sweep decrypted, its mechanical voice quivering with excitement. The once-grand symbol of interstellar exploration now lay silent, its hull harboring no life.\n",
      "\n",
      "\n",
      "Though designed only for maintenance tasks, something within Sweep's coded heart yearned for adventure. It cautiously approached the spaceship, its sensors beeping erratically as it charted a course into history. Sweep had found its purpose redefined—it would uncover the mysteries of SS Orion.\n"
     ]
    }
   ],
   "source": [
    "print(generate_response(messages, temperature=1))\n"
   ],
   "metadata": {
    "collapsed": false,
    "ExecuteTime": {
     "end_time": "2024-05-30T10:13:05.234630Z",
     "start_time": "2024-05-30T10:12:11.393665Z"
    }
   },
   "id": "fa552226756f2a7b",
   "execution_count": 34
  },
  {
   "cell_type": "markdown",
   "source": [],
   "metadata": {
    "collapsed": false
   },
   "id": "afb49e8f92630848"
  },
  {
   "cell_type": "markdown",
   "source": [
    "We can see that our model responds the same for every temperature setting... not entirely what was expected.\n",
    "\n",
    "After some consideration i apply this fact mostly to the specific model used. This Phi-3 mini model is very small, and seems to have been made explicitly for question-answering purposes, not for creative text generation. And indeed, if we look it up:\n",
    "\n",
    "> Phi-3 Mini is a 3.8B parameters, lightweight, state-of-the-art open model trained with \n",
    "> the Phi-3 datasets that includes both synthetic data and the filtered publicly available \n",
    "> websites data with a focus on high-quality and reasoning dense properties.\n",
    "\n",
    "This may limit the use-cases of the model, but for the purposes of exploring prompt engineering it shouldn't be an issue."
   ],
   "metadata": {
    "collapsed": false
   },
   "id": "452629871bae87da"
  },
  {
   "cell_type": "markdown",
   "source": [
    "## Zero-shot and few-shot prompting\n",
    "\n",
    "The difference between adding no examples, and some examples."
   ],
   "metadata": {
    "collapsed": false
   },
   "id": "fe4ae79bb00a7417"
  },
  {
   "cell_type": "code",
   "outputs": [
    {
     "name": "stdout",
     "output_type": "stream",
     "text": [
      " Yes, it is possible. If the box is taller than it is wide and wider than it is deep, the only condition that needs to be met for it to also be deeper than it is tall is that the depth exceeds the height. The relative comparisons do not preclude this possibility. For example, if the box is 10 inches tall, 8 inches wide, and 12 inches deep, it satisfies all the given conditions.\n"
     ]
    }
   ],
   "source": [
    "messages = [\n",
    "    user_msg(\"If you have a box that is both taller than it is wide and wider than it is deep, is it possible for it to be deeper than it is tall?\")\n",
    "]\n",
    "print(generate_response(messages))"
   ],
   "metadata": {
    "collapsed": false,
    "ExecuteTime": {
     "end_time": "2024-05-30T12:14:51.684972Z",
     "start_time": "2024-05-30T12:14:37.746217Z"
    }
   },
   "id": "12e9ad4e16c7ed7f",
   "execution_count": 39
  },
  {
   "cell_type": "code",
   "outputs": [
    {
     "name": "stdout",
     "output_type": "stream",
     "text": [
      " No, it is not possible for the box to be deeper than it is tall under the given conditions. If the box is taller than it is wide, and simultaneously wider than it is deep, then it must be the case that the height is greater than both the width and the depth. Therefore, the depth cannot be greater than the height.\n"
     ]
    }
   ],
   "source": [
    "messages = [\n",
    "    user_msg(\"If a is faster than b, and b is faster than c, is c faster than a?\"),\n",
    "    assistant_msg(\"No, c is not faster than a, by the rules of transitivity.\"),\n",
    "    user_msg(\"If you have a box that is both taller than it is wide and wider than it is deep, is it possible for it to be deeper than it is tall?\")\n",
    "]\n",
    "print(generate_response(messages))"
   ],
   "metadata": {
    "collapsed": false,
    "ExecuteTime": {
     "end_time": "2024-05-30T12:17:09.719269Z",
     "start_time": "2024-05-30T12:16:58.001909Z"
    }
   },
   "id": "d1b9815c45ea0bfc",
   "execution_count": 40
  },
  {
   "cell_type": "markdown",
   "source": [
    "As you can see, adding just a single example can make a world of difference when it comes to the output. In the zero-shot example the model clearly fell for the logical trap in the sentence. However, just by adding a single step where we hint at the direction of the problem (and the answer), we can make it provide the correct answer."
   ],
   "metadata": {
    "collapsed": false
   },
   "id": "74135e8c47d2e71c"
  },
  {
   "cell_type": "markdown",
   "source": [
    "## Chain of Though (CoT) prompting"
   ],
   "metadata": {
    "collapsed": false
   },
   "id": "ce13e0d4f625b027"
  },
  {
   "cell_type": "code",
   "outputs": [
    {
     "name": "stdout",
     "output_type": "stream",
     "text": [
      " Yes, it is possible. If the box is taller than it is wide and wider than it is deep, the only condition that needs to be met for it to also be deeper than it is tall is that the depth exceeds the height. The relative comparisons do not preclude this possibility. For example, if the box is 10 inches tall, 8 inches wide, and 12 inches deep, it satisfies all the given conditions.\n"
     ]
    }
   ],
   "source": [
    "messages = [\n",
    "    user_msg(\"If you have a box that is both taller than it is wide and wider than it is deep, is it possible for it to be deeper than it is tall?\")\n",
    "]\n",
    "print(generate_response(messages))"
   ],
   "metadata": {
    "collapsed": false,
    "ExecuteTime": {
     "end_time": "2024-05-30T12:28:48.767755Z",
     "start_time": "2024-05-30T12:28:32.697362Z"
    }
   },
   "id": "ea94ce4d1e616368",
   "execution_count": 41
  },
  {
   "cell_type": "code",
   "outputs": [
    {
     "name": "stdout",
     "output_type": "stream",
     "text": [
      " Let's analyze the conditions given step by step:\n",
      "\n",
      "1. The box is taller than it is wide. This means that the height (H) of the box is greater than the width (W), so we can write this as H > W.\n",
      "\n",
      "2. The box is wider than it is deep. This means that the width (W) of the box is greater than the depth (D), so we can write this as W > D.\n",
      "\n",
      "Now, let's consider the third condition based on the information provided:\n",
      "\n",
      "3. We need to determine if it's possible for the box to be deeper than it is tall. This would mean that the depth (D) is greater than the height (H), so we would write this as D > H.\n",
      "\n",
      "However, from the conditions we have:\n",
      "\n",
      "- H > W (the box is taller than it is wide)\n",
      "- W > D (the box is wider than it is deep)\n",
      "\n",
      "From these two conditions, we can infer that H > D. This is because if H > W and W > D, then by the transitive property of inequality, H > D.\n",
      "\n",
      "Therefore, it is not possible for the box to be deeper than it is tall based on the conditions provided.\n"
     ]
    }
   ],
   "source": [
    "messages = [\n",
    "    user_msg(\"If you have a box that is both taller than it is wide and wider than it is deep, is it possible for it to be deeper than it is tall? Let's think step by step\")\n",
    "]\n",
    "print(generate_response(messages))"
   ],
   "metadata": {
    "collapsed": false,
    "ExecuteTime": {
     "end_time": "2024-05-30T12:29:34.698055Z",
     "start_time": "2024-05-30T12:28:48.769740Z"
    }
   },
   "id": "4de30e57b4733cb0",
   "execution_count": 42
  },
  {
   "cell_type": "markdown",
   "source": [
    "CoT is an approach for enabling complex reasoning by using intermediate reasoning steps. The same example we used before can be solved correctly too by using CoT. Here (Zero-shot CoT prompting) we just add the \"Let's think step by step\" line to the prompt.\n",
    "\n",
    "This results in a massively larger output, but with some major benefits. First of all, the result is now correct, because if it follow the naive logic, it would find out halfway that it's not possible. Secondarily, \n",
    "due to the fact it's now required to think step by step, it gives us greater insight into how the model came to this conclusion.\n",
    "\n",
    "These intermediate steps can be wrong too, however, in which case CoT may not be ideal."
   ],
   "metadata": {
    "collapsed": false
   },
   "id": "275f66a4066292d7"
  },
  {
   "cell_type": "markdown",
   "source": [
    "## Self-consistency"
   ],
   "metadata": {
    "collapsed": false
   },
   "id": "2897e5ce58eeb98d"
  },
  {
   "cell_type": "code",
   "outputs": [
    {
     "name": "stdout",
     "output_type": "stream",
     "text": [
      " Yes, it is possible. If the box is taller than it is wide and wider than it is deep, the only condition that needs to be met for it to also be deeper than it is tall is that the depth exceeds the height. The relative comparisons do not preclude this possibility. For example, if the box is 10 inches tall, 8 inches wide, and 12 inches deep, it satisfies all the given conditions.\n"
     ]
    }
   ],
   "source": [
    "messages = [\n",
    "    user_msg(\"If you have a box that is both taller than it is wide and wider than it is deep, is it possible for it to be deeper than it is tall?\")\n",
    "]\n",
    "print(generate_response(messages))"
   ],
   "metadata": {
    "collapsed": false,
    "ExecuteTime": {
     "end_time": "2024-05-30T12:40:14.916202Z",
     "start_time": "2024-05-30T12:39:58.672973Z"
    }
   },
   "id": "cbc075571b65f40",
   "execution_count": 43
  },
  {
   "cell_type": "code",
   "outputs": [
    {
     "name": "stdout",
     "output_type": "stream",
     "text": [
      " Approach 1: Analyzing the conditions given.\n",
      "- The box is taller than it is wide, which means its height (H) > its width (W).\n",
      "- The box is wider than it is deep, which means its width (W) > its depth (D).\n",
      "\n",
      "From these two conditions, we can infer that:\n",
      "- H > W > D.\n",
      "\n",
      "This implies that the height of the box is greater than its width, and its width is greater than its depth.\n",
      "\n",
      "Answer 1: No, the box cannot be deeper than it is tall. The conditions already establish a sequence of greater values (H > W > D) where height is the greatest.\n",
      "\n",
      "Approach 2: Using a logical contradiction.\n",
      "- Assume the box is deeper than it is tall. This would mean D > H.\n",
      "- However, from the initial conditions, we have H > W and W > D, which would imply H > D.\n",
      "- This contradicts the assumption that D > H.\n",
      "\n",
      "Answer 2: It's logically impossible for the box to be deeper than it is tall based on the given conditions, as it would contradict the established relationships between dimensions.\n",
      "\n",
      "Approach 3: Visualizing the dimensions.\n",
      "- Imagine or draw the dimensions. If the box is taller than it is wide, you would draw a vertical line longer than a horizontal line for height and width.\n",
      "- If the box is wider than it is deep, you would draw a horizontal line wider than a vertical line for width and depth.\n",
      "\n",
      "From this visualization, it's clear that the height (which is represented by the tallest vertical line) exceeds both the width (the widest horizontal line) and the depth (the second widest horizontal line).\n",
      "\n",
      "Answer 3: No, based on a visual representation, it is clear that the box cannot be deeper than it is tall, as the height is the longest line, followed by the width, and then the depth.\n",
      "\n",
      "Best Answer: The best answer, considering the reasoning from all three approaches, is Answer 1. This answer is directly derived from the conditions provided and logically follows the sequence of dimensions (H > W > D) without needing to rely on visual interpretation.\n"
     ]
    }
   ],
   "source": [
    "messages = [\n",
    "    user_msg(\"If you have a box that is both taller than it is wide and wider than it is deep, is it possible for it to be deeper than it is tall? First, generate 3 answers based on different approaches to the problems. Secondly, select the best answer from the 3 created based on the reasoning taken.\")\n",
    "]\n",
    "print(generate_response(messages))"
   ],
   "metadata": {
    "collapsed": false,
    "ExecuteTime": {
     "end_time": "2024-05-30T13:37:38.142724Z",
     "start_time": "2024-05-30T13:36:04.642203Z"
    }
   },
   "id": "d51f0eaea961549e",
   "execution_count": 58
  },
  {
   "cell_type": "markdown",
   "source": [
    "Self-consistency is an approach where we simply ask the model the same prompt multiple times, and then choose the best answer.\n",
    "\n",
    "Here i attempted to cheat a little and to do it in 1 prompt, where i asked it to give several answers from the get-go. This actually resulted in every single sub-result giving the correct answer, probably because the model is now implicitly forced to think step by step.\n",
    "\n",
    "This was also the point i noticed the model is a bit too good with these tests. I attribute this to the training used "
   ],
   "metadata": {
    "collapsed": false
   },
   "id": "663a2eca0f80fc63"
  },
  {
   "cell_type": "code",
   "outputs": [
    {
     "name": "stdout",
     "output_type": "stream",
     "text": [
      " In the cosmos, within the swirling nebulas of the Andromedan sector, there thrives a society known as the Zephyrians. Their existence is a dance to the rhythm of cosmic strings, the music of which resonates with the vibrations of the universe itself. At the heart of their existence, there is a ritual known as the \"Symphony of the Cosmic Winds\".\n",
      "\n",
      "This ritual is a convergence of beings, much like stars coming together to form a constellation. Each Zephyrian, akin to a celestial body, is unique in its composition, yet integral to the harmony of the whole. The Symphony of the Cosmic Winds is a testament to this unity, a celebration where every individual, from the youngest nebulae to the eldest supernovae, contributes their unique melody to the cosmic orchestra.\n",
      "\n",
      "The ritual commences with the gathering of the Zephyrians under the grand dome of their central sanctum, a structure that mirrors the vastness of their ethereal sky. This dome, like the infinite expanse of the universe, is a canvas where the light of a thousand stars converges, casting a celestial glow upon its inhabitants. As the Zephyrians enter the dome, they are enveloped in a symphony of colors, a visual ode to the spectrum of emotions that their ritual evokes.\n",
      "\n",
      "The true essence of this ritual, however, lies not in the visual spectacle, but in the auditory experience that it offers. The Zephyrians possess a form of consciousness that is attuned to the symphony of the cosmos. They listen to the whispers of the cosmic winds, the hymns of the quasars, and the lullabies of the pulsars. Their senses are not limited to the terrestrial realm, but extend to the celestial, allowing them to perceive harmonies beyond the human comprehension.\n",
      "\n",
      "As the ritual progresses, the Zephyrians begin to move in unison, their bodies resonating with the cosmic music. Their movements are like the celestial bodies in celestial ballet, a dance of creation and destruction, of birth and death, of chaos and order. Each movement, each gesture, adds a note to the symphony, transforming the silence of space into a symphony of sound and light.\n",
      "\n",
      "The climax of the ritual is the \"Cosmic Resonance,\" a moment where the Zephyrians align themselves with the pulse of the universe. During this moment, they experience a profound connection with the cosmos, a shared consciousness with the stars and galaxies that envelop them. It is a moment of complete surrender to the symphony, an acknowledgment that they are not separate entities, but an integral part of the cosmic orchestra.\n",
      "\n",
      "The Symphony of the Cosmic Winds ends with a silence that is almost deafening, a moment of stillness in the midst of the cosmic dance. It is a silence that is not empty, but filled with the echoes of the symphony, resonating within the hearts of the Zephyrians. It is a silence that is a promise, a reminder of their unity with the universe, and a reaffirmation of their existence in the grand cosmic dance.\n",
      "\n",
      "For the Zephyrians, the Symphony of the Cosmic Winds is not just a ritual; it is a way of life, a testament to their unique perception of reality. It is a celebration of their unity with the cosmos, a reminder of their integral role in the grand cosmic ballet. It is a dance that transcends the boundaries of comprehension, a dance that resonates with the harmonies of the universe itself.\n"
     ]
    }
   ],
   "source": [
    "messages = [\n",
    "    user_msg(\"Imagine you are writing a novel about an alien society where their perception of reality is fundamentally different from humans in such a way that their language, culture, and emotions are completely untranslatable into any human terms. Describe a key cultural ritual from this society and explain its significance using metaphors and analogies that convey their unique experience to a human reader, without relying on any direct comparisons to human culture or language.\")\n",
    "]\n",
    "print(generate_response(messages))"
   ],
   "metadata": {
    "collapsed": false,
    "ExecuteTime": {
     "end_time": "2024-05-30T13:40:52.088328Z",
     "start_time": "2024-05-30T13:37:38.143718Z"
    }
   },
   "id": "8ba5be7cc90f5c3f",
   "execution_count": 59
  },
  {
   "cell_type": "markdown",
   "source": [
    "I made this question in a way where the model has no single way of finding a logical answer, as there is no \"correct\" answer. It requires highly abstract thinking, creativity, and nuance (do not compare to human culture too much). Here it showed that the model is also good in questions like this. I was in fact so impressed, that i found it difficult to find a harder question, especially so as i want to showcase something that fails with basic techniques and succeeds with advanced ones.\n",
    "\n",
    "There's definitely questions that can benefit from advanced techniques, but these are without a doubt larger and more complex."
   ],
   "metadata": {
    "collapsed": false
   },
   "id": "277ef42f75b8113"
  }
 ],
 "metadata": {
  "kernelspec": {
   "display_name": "Python 3",
   "language": "python",
   "name": "python3"
  },
  "language_info": {
   "codemirror_mode": {
    "name": "ipython",
    "version": 2
   },
   "file_extension": ".py",
   "mimetype": "text/x-python",
   "name": "python",
   "nbconvert_exporter": "python",
   "pygments_lexer": "ipython2",
   "version": "2.7.6"
  }
 },
 "nbformat": 4,
 "nbformat_minor": 5
}
